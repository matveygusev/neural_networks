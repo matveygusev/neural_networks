{
  "nbformat": 4,
  "nbformat_minor": 0,
  "metadata": {
    "colab": {
      "provenance": []
    },
    "kernelspec": {
      "name": "python3",
      "display_name": "Python 3"
    },
    "language_info": {
      "name": "python"
    }
  },
  "cells": [
    {
      "cell_type": "code",
      "execution_count": 82,
      "metadata": {
        "id": "paqYSKHG623R"
      },
      "outputs": [],
      "source": [
        "import pandas as pd\n",
        "import numpy as np\n",
        "import matplotlib.pyplot as plt\n",
        "import seaborn as sns\n",
        "from sklearn.pipeline import Pipeline\n",
        "from sklearn.impute import SimpleImputer\n",
        "from sklearn.model_selection import train_test_split\n",
        "from sklearn.preprocessing import StandardScaler, MinMaxScaler, OneHotEncoder\n",
        "from sklearn.compose import ColumnTransformer\n",
        "import torch\n",
        "from torch.utils.data import Dataset, DataLoader\n",
        "import torch.nn as nn\n",
        "import torch.optim as optim\n",
        "from sklearn.metrics import accuracy_score, mean_absolute_error"
      ]
    },
    {
      "cell_type": "markdown",
      "source": [
        "## 1. Загрузка данных"
      ],
      "metadata": {
        "id": "ePZdg2im7UkE"
      }
    },
    {
      "cell_type": "code",
      "source": [
        "df = pd.read_csv('/content/marketing_campaign.csv', sep='\\t')"
      ],
      "metadata": {
        "id": "V4DlhuVI7W6j"
      },
      "execution_count": 83,
      "outputs": []
    },
    {
      "cell_type": "code",
      "source": [
        "df.info()"
      ],
      "metadata": {
        "colab": {
          "base_uri": "https://localhost:8080/"
        },
        "id": "74JaX80I7ib4",
        "outputId": "a0da8fca-a8f2-4c22-c624-79e72a209a1f"
      },
      "execution_count": 84,
      "outputs": [
        {
          "output_type": "stream",
          "name": "stdout",
          "text": [
            "<class 'pandas.core.frame.DataFrame'>\n",
            "RangeIndex: 2240 entries, 0 to 2239\n",
            "Data columns (total 29 columns):\n",
            " #   Column               Non-Null Count  Dtype  \n",
            "---  ------               --------------  -----  \n",
            " 0   ID                   2240 non-null   int64  \n",
            " 1   Year_Birth           2240 non-null   int64  \n",
            " 2   Education            2240 non-null   object \n",
            " 3   Marital_Status       2240 non-null   object \n",
            " 4   Income               2216 non-null   float64\n",
            " 5   Kidhome              2240 non-null   int64  \n",
            " 6   Teenhome             2240 non-null   int64  \n",
            " 7   Dt_Customer          2240 non-null   object \n",
            " 8   Recency              2240 non-null   int64  \n",
            " 9   MntWines             2240 non-null   int64  \n",
            " 10  MntFruits            2240 non-null   int64  \n",
            " 11  MntMeatProducts      2240 non-null   int64  \n",
            " 12  MntFishProducts      2240 non-null   int64  \n",
            " 13  MntSweetProducts     2240 non-null   int64  \n",
            " 14  MntGoldProds         2240 non-null   int64  \n",
            " 15  NumDealsPurchases    2240 non-null   int64  \n",
            " 16  NumWebPurchases      2240 non-null   int64  \n",
            " 17  NumCatalogPurchases  2240 non-null   int64  \n",
            " 18  NumStorePurchases    2240 non-null   int64  \n",
            " 19  NumWebVisitsMonth    2240 non-null   int64  \n",
            " 20  AcceptedCmp3         2240 non-null   int64  \n",
            " 21  AcceptedCmp4         2240 non-null   int64  \n",
            " 22  AcceptedCmp5         2240 non-null   int64  \n",
            " 23  AcceptedCmp1         2240 non-null   int64  \n",
            " 24  AcceptedCmp2         2240 non-null   int64  \n",
            " 25  Complain             2240 non-null   int64  \n",
            " 26  Z_CostContact        2240 non-null   int64  \n",
            " 27  Z_Revenue            2240 non-null   int64  \n",
            " 28  Response             2240 non-null   int64  \n",
            "dtypes: float64(1), int64(25), object(3)\n",
            "memory usage: 507.6+ KB\n"
          ]
        }
      ]
    },
    {
      "cell_type": "markdown",
      "source": [
        "## 2. Описание и постановка задачи"
      ],
      "metadata": {
        "id": "v-Y4NzmU7n_q"
      }
    },
    {
      "cell_type": "code",
      "source": [
        "df.describe()"
      ],
      "metadata": {
        "colab": {
          "base_uri": "https://localhost:8080/",
          "height": 346
        },
        "id": "DTvQxj867sRy",
        "outputId": "6d34618f-baad-43f9-bbc8-c749eedef391"
      },
      "execution_count": 85,
      "outputs": [
        {
          "output_type": "execute_result",
          "data": {
            "text/plain": [
              "                 ID   Year_Birth         Income      Kidhome     Teenhome  \\\n",
              "count   2240.000000  2240.000000    2216.000000  2240.000000  2240.000000   \n",
              "mean    5592.159821  1968.805804   52247.251354     0.444196     0.506250   \n",
              "std     3246.662198    11.984069   25173.076661     0.538398     0.544538   \n",
              "min        0.000000  1893.000000    1730.000000     0.000000     0.000000   \n",
              "25%     2828.250000  1959.000000   35303.000000     0.000000     0.000000   \n",
              "50%     5458.500000  1970.000000   51381.500000     0.000000     0.000000   \n",
              "75%     8427.750000  1977.000000   68522.000000     1.000000     1.000000   \n",
              "max    11191.000000  1996.000000  666666.000000     2.000000     2.000000   \n",
              "\n",
              "           Recency     MntWines    MntFruits  MntMeatProducts  \\\n",
              "count  2240.000000  2240.000000  2240.000000      2240.000000   \n",
              "mean     49.109375   303.935714    26.302232       166.950000   \n",
              "std      28.962453   336.597393    39.773434       225.715373   \n",
              "min       0.000000     0.000000     0.000000         0.000000   \n",
              "25%      24.000000    23.750000     1.000000        16.000000   \n",
              "50%      49.000000   173.500000     8.000000        67.000000   \n",
              "75%      74.000000   504.250000    33.000000       232.000000   \n",
              "max      99.000000  1493.000000   199.000000      1725.000000   \n",
              "\n",
              "       MntFishProducts  ...  NumWebVisitsMonth  AcceptedCmp3  AcceptedCmp4  \\\n",
              "count      2240.000000  ...        2240.000000   2240.000000   2240.000000   \n",
              "mean         37.525446  ...           5.316518      0.072768      0.074554   \n",
              "std          54.628979  ...           2.426645      0.259813      0.262728   \n",
              "min           0.000000  ...           0.000000      0.000000      0.000000   \n",
              "25%           3.000000  ...           3.000000      0.000000      0.000000   \n",
              "50%          12.000000  ...           6.000000      0.000000      0.000000   \n",
              "75%          50.000000  ...           7.000000      0.000000      0.000000   \n",
              "max         259.000000  ...          20.000000      1.000000      1.000000   \n",
              "\n",
              "       AcceptedCmp5  AcceptedCmp1  AcceptedCmp2     Complain  Z_CostContact  \\\n",
              "count   2240.000000   2240.000000   2240.000000  2240.000000         2240.0   \n",
              "mean       0.072768      0.064286      0.013393     0.009375            3.0   \n",
              "std        0.259813      0.245316      0.114976     0.096391            0.0   \n",
              "min        0.000000      0.000000      0.000000     0.000000            3.0   \n",
              "25%        0.000000      0.000000      0.000000     0.000000            3.0   \n",
              "50%        0.000000      0.000000      0.000000     0.000000            3.0   \n",
              "75%        0.000000      0.000000      0.000000     0.000000            3.0   \n",
              "max        1.000000      1.000000      1.000000     1.000000            3.0   \n",
              "\n",
              "       Z_Revenue     Response  \n",
              "count     2240.0  2240.000000  \n",
              "mean        11.0     0.149107  \n",
              "std          0.0     0.356274  \n",
              "min         11.0     0.000000  \n",
              "25%         11.0     0.000000  \n",
              "50%         11.0     0.000000  \n",
              "75%         11.0     0.000000  \n",
              "max         11.0     1.000000  \n",
              "\n",
              "[8 rows x 26 columns]"
            ],
            "text/html": [
              "\n",
              "  <div id=\"df-938ed263-57d3-4f8f-a69a-9a9334015893\" class=\"colab-df-container\">\n",
              "    <div>\n",
              "<style scoped>\n",
              "    .dataframe tbody tr th:only-of-type {\n",
              "        vertical-align: middle;\n",
              "    }\n",
              "\n",
              "    .dataframe tbody tr th {\n",
              "        vertical-align: top;\n",
              "    }\n",
              "\n",
              "    .dataframe thead th {\n",
              "        text-align: right;\n",
              "    }\n",
              "</style>\n",
              "<table border=\"1\" class=\"dataframe\">\n",
              "  <thead>\n",
              "    <tr style=\"text-align: right;\">\n",
              "      <th></th>\n",
              "      <th>ID</th>\n",
              "      <th>Year_Birth</th>\n",
              "      <th>Income</th>\n",
              "      <th>Kidhome</th>\n",
              "      <th>Teenhome</th>\n",
              "      <th>Recency</th>\n",
              "      <th>MntWines</th>\n",
              "      <th>MntFruits</th>\n",
              "      <th>MntMeatProducts</th>\n",
              "      <th>MntFishProducts</th>\n",
              "      <th>...</th>\n",
              "      <th>NumWebVisitsMonth</th>\n",
              "      <th>AcceptedCmp3</th>\n",
              "      <th>AcceptedCmp4</th>\n",
              "      <th>AcceptedCmp5</th>\n",
              "      <th>AcceptedCmp1</th>\n",
              "      <th>AcceptedCmp2</th>\n",
              "      <th>Complain</th>\n",
              "      <th>Z_CostContact</th>\n",
              "      <th>Z_Revenue</th>\n",
              "      <th>Response</th>\n",
              "    </tr>\n",
              "  </thead>\n",
              "  <tbody>\n",
              "    <tr>\n",
              "      <th>count</th>\n",
              "      <td>2240.000000</td>\n",
              "      <td>2240.000000</td>\n",
              "      <td>2216.000000</td>\n",
              "      <td>2240.000000</td>\n",
              "      <td>2240.000000</td>\n",
              "      <td>2240.000000</td>\n",
              "      <td>2240.000000</td>\n",
              "      <td>2240.000000</td>\n",
              "      <td>2240.000000</td>\n",
              "      <td>2240.000000</td>\n",
              "      <td>...</td>\n",
              "      <td>2240.000000</td>\n",
              "      <td>2240.000000</td>\n",
              "      <td>2240.000000</td>\n",
              "      <td>2240.000000</td>\n",
              "      <td>2240.000000</td>\n",
              "      <td>2240.000000</td>\n",
              "      <td>2240.000000</td>\n",
              "      <td>2240.0</td>\n",
              "      <td>2240.0</td>\n",
              "      <td>2240.000000</td>\n",
              "    </tr>\n",
              "    <tr>\n",
              "      <th>mean</th>\n",
              "      <td>5592.159821</td>\n",
              "      <td>1968.805804</td>\n",
              "      <td>52247.251354</td>\n",
              "      <td>0.444196</td>\n",
              "      <td>0.506250</td>\n",
              "      <td>49.109375</td>\n",
              "      <td>303.935714</td>\n",
              "      <td>26.302232</td>\n",
              "      <td>166.950000</td>\n",
              "      <td>37.525446</td>\n",
              "      <td>...</td>\n",
              "      <td>5.316518</td>\n",
              "      <td>0.072768</td>\n",
              "      <td>0.074554</td>\n",
              "      <td>0.072768</td>\n",
              "      <td>0.064286</td>\n",
              "      <td>0.013393</td>\n",
              "      <td>0.009375</td>\n",
              "      <td>3.0</td>\n",
              "      <td>11.0</td>\n",
              "      <td>0.149107</td>\n",
              "    </tr>\n",
              "    <tr>\n",
              "      <th>std</th>\n",
              "      <td>3246.662198</td>\n",
              "      <td>11.984069</td>\n",
              "      <td>25173.076661</td>\n",
              "      <td>0.538398</td>\n",
              "      <td>0.544538</td>\n",
              "      <td>28.962453</td>\n",
              "      <td>336.597393</td>\n",
              "      <td>39.773434</td>\n",
              "      <td>225.715373</td>\n",
              "      <td>54.628979</td>\n",
              "      <td>...</td>\n",
              "      <td>2.426645</td>\n",
              "      <td>0.259813</td>\n",
              "      <td>0.262728</td>\n",
              "      <td>0.259813</td>\n",
              "      <td>0.245316</td>\n",
              "      <td>0.114976</td>\n",
              "      <td>0.096391</td>\n",
              "      <td>0.0</td>\n",
              "      <td>0.0</td>\n",
              "      <td>0.356274</td>\n",
              "    </tr>\n",
              "    <tr>\n",
              "      <th>min</th>\n",
              "      <td>0.000000</td>\n",
              "      <td>1893.000000</td>\n",
              "      <td>1730.000000</td>\n",
              "      <td>0.000000</td>\n",
              "      <td>0.000000</td>\n",
              "      <td>0.000000</td>\n",
              "      <td>0.000000</td>\n",
              "      <td>0.000000</td>\n",
              "      <td>0.000000</td>\n",
              "      <td>0.000000</td>\n",
              "      <td>...</td>\n",
              "      <td>0.000000</td>\n",
              "      <td>0.000000</td>\n",
              "      <td>0.000000</td>\n",
              "      <td>0.000000</td>\n",
              "      <td>0.000000</td>\n",
              "      <td>0.000000</td>\n",
              "      <td>0.000000</td>\n",
              "      <td>3.0</td>\n",
              "      <td>11.0</td>\n",
              "      <td>0.000000</td>\n",
              "    </tr>\n",
              "    <tr>\n",
              "      <th>25%</th>\n",
              "      <td>2828.250000</td>\n",
              "      <td>1959.000000</td>\n",
              "      <td>35303.000000</td>\n",
              "      <td>0.000000</td>\n",
              "      <td>0.000000</td>\n",
              "      <td>24.000000</td>\n",
              "      <td>23.750000</td>\n",
              "      <td>1.000000</td>\n",
              "      <td>16.000000</td>\n",
              "      <td>3.000000</td>\n",
              "      <td>...</td>\n",
              "      <td>3.000000</td>\n",
              "      <td>0.000000</td>\n",
              "      <td>0.000000</td>\n",
              "      <td>0.000000</td>\n",
              "      <td>0.000000</td>\n",
              "      <td>0.000000</td>\n",
              "      <td>0.000000</td>\n",
              "      <td>3.0</td>\n",
              "      <td>11.0</td>\n",
              "      <td>0.000000</td>\n",
              "    </tr>\n",
              "    <tr>\n",
              "      <th>50%</th>\n",
              "      <td>5458.500000</td>\n",
              "      <td>1970.000000</td>\n",
              "      <td>51381.500000</td>\n",
              "      <td>0.000000</td>\n",
              "      <td>0.000000</td>\n",
              "      <td>49.000000</td>\n",
              "      <td>173.500000</td>\n",
              "      <td>8.000000</td>\n",
              "      <td>67.000000</td>\n",
              "      <td>12.000000</td>\n",
              "      <td>...</td>\n",
              "      <td>6.000000</td>\n",
              "      <td>0.000000</td>\n",
              "      <td>0.000000</td>\n",
              "      <td>0.000000</td>\n",
              "      <td>0.000000</td>\n",
              "      <td>0.000000</td>\n",
              "      <td>0.000000</td>\n",
              "      <td>3.0</td>\n",
              "      <td>11.0</td>\n",
              "      <td>0.000000</td>\n",
              "    </tr>\n",
              "    <tr>\n",
              "      <th>75%</th>\n",
              "      <td>8427.750000</td>\n",
              "      <td>1977.000000</td>\n",
              "      <td>68522.000000</td>\n",
              "      <td>1.000000</td>\n",
              "      <td>1.000000</td>\n",
              "      <td>74.000000</td>\n",
              "      <td>504.250000</td>\n",
              "      <td>33.000000</td>\n",
              "      <td>232.000000</td>\n",
              "      <td>50.000000</td>\n",
              "      <td>...</td>\n",
              "      <td>7.000000</td>\n",
              "      <td>0.000000</td>\n",
              "      <td>0.000000</td>\n",
              "      <td>0.000000</td>\n",
              "      <td>0.000000</td>\n",
              "      <td>0.000000</td>\n",
              "      <td>0.000000</td>\n",
              "      <td>3.0</td>\n",
              "      <td>11.0</td>\n",
              "      <td>0.000000</td>\n",
              "    </tr>\n",
              "    <tr>\n",
              "      <th>max</th>\n",
              "      <td>11191.000000</td>\n",
              "      <td>1996.000000</td>\n",
              "      <td>666666.000000</td>\n",
              "      <td>2.000000</td>\n",
              "      <td>2.000000</td>\n",
              "      <td>99.000000</td>\n",
              "      <td>1493.000000</td>\n",
              "      <td>199.000000</td>\n",
              "      <td>1725.000000</td>\n",
              "      <td>259.000000</td>\n",
              "      <td>...</td>\n",
              "      <td>20.000000</td>\n",
              "      <td>1.000000</td>\n",
              "      <td>1.000000</td>\n",
              "      <td>1.000000</td>\n",
              "      <td>1.000000</td>\n",
              "      <td>1.000000</td>\n",
              "      <td>1.000000</td>\n",
              "      <td>3.0</td>\n",
              "      <td>11.0</td>\n",
              "      <td>1.000000</td>\n",
              "    </tr>\n",
              "  </tbody>\n",
              "</table>\n",
              "<p>8 rows × 26 columns</p>\n",
              "</div>\n",
              "    <div class=\"colab-df-buttons\">\n",
              "\n",
              "  <div class=\"colab-df-container\">\n",
              "    <button class=\"colab-df-convert\" onclick=\"convertToInteractive('df-938ed263-57d3-4f8f-a69a-9a9334015893')\"\n",
              "            title=\"Convert this dataframe to an interactive table.\"\n",
              "            style=\"display:none;\">\n",
              "\n",
              "  <svg xmlns=\"http://www.w3.org/2000/svg\" height=\"24px\" viewBox=\"0 -960 960 960\">\n",
              "    <path d=\"M120-120v-720h720v720H120Zm60-500h600v-160H180v160Zm220 220h160v-160H400v160Zm0 220h160v-160H400v160ZM180-400h160v-160H180v160Zm440 0h160v-160H620v160ZM180-180h160v-160H180v160Zm440 0h160v-160H620v160Z\"/>\n",
              "  </svg>\n",
              "    </button>\n",
              "\n",
              "  <style>\n",
              "    .colab-df-container {\n",
              "      display:flex;\n",
              "      gap: 12px;\n",
              "    }\n",
              "\n",
              "    .colab-df-convert {\n",
              "      background-color: #E8F0FE;\n",
              "      border: none;\n",
              "      border-radius: 50%;\n",
              "      cursor: pointer;\n",
              "      display: none;\n",
              "      fill: #1967D2;\n",
              "      height: 32px;\n",
              "      padding: 0 0 0 0;\n",
              "      width: 32px;\n",
              "    }\n",
              "\n",
              "    .colab-df-convert:hover {\n",
              "      background-color: #E2EBFA;\n",
              "      box-shadow: 0px 1px 2px rgba(60, 64, 67, 0.3), 0px 1px 3px 1px rgba(60, 64, 67, 0.15);\n",
              "      fill: #174EA6;\n",
              "    }\n",
              "\n",
              "    .colab-df-buttons div {\n",
              "      margin-bottom: 4px;\n",
              "    }\n",
              "\n",
              "    [theme=dark] .colab-df-convert {\n",
              "      background-color: #3B4455;\n",
              "      fill: #D2E3FC;\n",
              "    }\n",
              "\n",
              "    [theme=dark] .colab-df-convert:hover {\n",
              "      background-color: #434B5C;\n",
              "      box-shadow: 0px 1px 3px 1px rgba(0, 0, 0, 0.15);\n",
              "      filter: drop-shadow(0px 1px 2px rgba(0, 0, 0, 0.3));\n",
              "      fill: #FFFFFF;\n",
              "    }\n",
              "  </style>\n",
              "\n",
              "    <script>\n",
              "      const buttonEl =\n",
              "        document.querySelector('#df-938ed263-57d3-4f8f-a69a-9a9334015893 button.colab-df-convert');\n",
              "      buttonEl.style.display =\n",
              "        google.colab.kernel.accessAllowed ? 'block' : 'none';\n",
              "\n",
              "      async function convertToInteractive(key) {\n",
              "        const element = document.querySelector('#df-938ed263-57d3-4f8f-a69a-9a9334015893');\n",
              "        const dataTable =\n",
              "          await google.colab.kernel.invokeFunction('convertToInteractive',\n",
              "                                                    [key], {});\n",
              "        if (!dataTable) return;\n",
              "\n",
              "        const docLinkHtml = 'Like what you see? Visit the ' +\n",
              "          '<a target=\"_blank\" href=https://colab.research.google.com/notebooks/data_table.ipynb>data table notebook</a>'\n",
              "          + ' to learn more about interactive tables.';\n",
              "        element.innerHTML = '';\n",
              "        dataTable['output_type'] = 'display_data';\n",
              "        await google.colab.output.renderOutput(dataTable, element);\n",
              "        const docLink = document.createElement('div');\n",
              "        docLink.innerHTML = docLinkHtml;\n",
              "        element.appendChild(docLink);\n",
              "      }\n",
              "    </script>\n",
              "  </div>\n",
              "\n",
              "\n",
              "<div id=\"df-c60f952c-e007-4f43-90cf-41b7278488ad\">\n",
              "  <button class=\"colab-df-quickchart\" onclick=\"quickchart('df-c60f952c-e007-4f43-90cf-41b7278488ad')\"\n",
              "            title=\"Suggest charts\"\n",
              "            style=\"display:none;\">\n",
              "\n",
              "<svg xmlns=\"http://www.w3.org/2000/svg\" height=\"24px\"viewBox=\"0 0 24 24\"\n",
              "     width=\"24px\">\n",
              "    <g>\n",
              "        <path d=\"M19 3H5c-1.1 0-2 .9-2 2v14c0 1.1.9 2 2 2h14c1.1 0 2-.9 2-2V5c0-1.1-.9-2-2-2zM9 17H7v-7h2v7zm4 0h-2V7h2v10zm4 0h-2v-4h2v4z\"/>\n",
              "    </g>\n",
              "</svg>\n",
              "  </button>\n",
              "\n",
              "<style>\n",
              "  .colab-df-quickchart {\n",
              "      --bg-color: #E8F0FE;\n",
              "      --fill-color: #1967D2;\n",
              "      --hover-bg-color: #E2EBFA;\n",
              "      --hover-fill-color: #174EA6;\n",
              "      --disabled-fill-color: #AAA;\n",
              "      --disabled-bg-color: #DDD;\n",
              "  }\n",
              "\n",
              "  [theme=dark] .colab-df-quickchart {\n",
              "      --bg-color: #3B4455;\n",
              "      --fill-color: #D2E3FC;\n",
              "      --hover-bg-color: #434B5C;\n",
              "      --hover-fill-color: #FFFFFF;\n",
              "      --disabled-bg-color: #3B4455;\n",
              "      --disabled-fill-color: #666;\n",
              "  }\n",
              "\n",
              "  .colab-df-quickchart {\n",
              "    background-color: var(--bg-color);\n",
              "    border: none;\n",
              "    border-radius: 50%;\n",
              "    cursor: pointer;\n",
              "    display: none;\n",
              "    fill: var(--fill-color);\n",
              "    height: 32px;\n",
              "    padding: 0;\n",
              "    width: 32px;\n",
              "  }\n",
              "\n",
              "  .colab-df-quickchart:hover {\n",
              "    background-color: var(--hover-bg-color);\n",
              "    box-shadow: 0 1px 2px rgba(60, 64, 67, 0.3), 0 1px 3px 1px rgba(60, 64, 67, 0.15);\n",
              "    fill: var(--button-hover-fill-color);\n",
              "  }\n",
              "\n",
              "  .colab-df-quickchart-complete:disabled,\n",
              "  .colab-df-quickchart-complete:disabled:hover {\n",
              "    background-color: var(--disabled-bg-color);\n",
              "    fill: var(--disabled-fill-color);\n",
              "    box-shadow: none;\n",
              "  }\n",
              "\n",
              "  .colab-df-spinner {\n",
              "    border: 2px solid var(--fill-color);\n",
              "    border-color: transparent;\n",
              "    border-bottom-color: var(--fill-color);\n",
              "    animation:\n",
              "      spin 1s steps(1) infinite;\n",
              "  }\n",
              "\n",
              "  @keyframes spin {\n",
              "    0% {\n",
              "      border-color: transparent;\n",
              "      border-bottom-color: var(--fill-color);\n",
              "      border-left-color: var(--fill-color);\n",
              "    }\n",
              "    20% {\n",
              "      border-color: transparent;\n",
              "      border-left-color: var(--fill-color);\n",
              "      border-top-color: var(--fill-color);\n",
              "    }\n",
              "    30% {\n",
              "      border-color: transparent;\n",
              "      border-left-color: var(--fill-color);\n",
              "      border-top-color: var(--fill-color);\n",
              "      border-right-color: var(--fill-color);\n",
              "    }\n",
              "    40% {\n",
              "      border-color: transparent;\n",
              "      border-right-color: var(--fill-color);\n",
              "      border-top-color: var(--fill-color);\n",
              "    }\n",
              "    60% {\n",
              "      border-color: transparent;\n",
              "      border-right-color: var(--fill-color);\n",
              "    }\n",
              "    80% {\n",
              "      border-color: transparent;\n",
              "      border-right-color: var(--fill-color);\n",
              "      border-bottom-color: var(--fill-color);\n",
              "    }\n",
              "    90% {\n",
              "      border-color: transparent;\n",
              "      border-bottom-color: var(--fill-color);\n",
              "    }\n",
              "  }\n",
              "</style>\n",
              "\n",
              "  <script>\n",
              "    async function quickchart(key) {\n",
              "      const quickchartButtonEl =\n",
              "        document.querySelector('#' + key + ' button');\n",
              "      quickchartButtonEl.disabled = true;  // To prevent multiple clicks.\n",
              "      quickchartButtonEl.classList.add('colab-df-spinner');\n",
              "      try {\n",
              "        const charts = await google.colab.kernel.invokeFunction(\n",
              "            'suggestCharts', [key], {});\n",
              "      } catch (error) {\n",
              "        console.error('Error during call to suggestCharts:', error);\n",
              "      }\n",
              "      quickchartButtonEl.classList.remove('colab-df-spinner');\n",
              "      quickchartButtonEl.classList.add('colab-df-quickchart-complete');\n",
              "    }\n",
              "    (() => {\n",
              "      let quickchartButtonEl =\n",
              "        document.querySelector('#df-c60f952c-e007-4f43-90cf-41b7278488ad button');\n",
              "      quickchartButtonEl.style.display =\n",
              "        google.colab.kernel.accessAllowed ? 'block' : 'none';\n",
              "    })();\n",
              "  </script>\n",
              "</div>\n",
              "    </div>\n",
              "  </div>\n"
            ],
            "application/vnd.google.colaboratory.intrinsic+json": {
              "type": "dataframe"
            }
          },
          "metadata": {},
          "execution_count": 85
        }
      ]
    },
    {
      "cell_type": "code",
      "source": [
        "df.info()"
      ],
      "metadata": {
        "colab": {
          "base_uri": "https://localhost:8080/"
        },
        "id": "s34ct-Ne7va-",
        "outputId": "a8b0d2c5-a5e7-45a6-8be0-b59e36ef4997"
      },
      "execution_count": 86,
      "outputs": [
        {
          "output_type": "stream",
          "name": "stdout",
          "text": [
            "<class 'pandas.core.frame.DataFrame'>\n",
            "RangeIndex: 2240 entries, 0 to 2239\n",
            "Data columns (total 29 columns):\n",
            " #   Column               Non-Null Count  Dtype  \n",
            "---  ------               --------------  -----  \n",
            " 0   ID                   2240 non-null   int64  \n",
            " 1   Year_Birth           2240 non-null   int64  \n",
            " 2   Education            2240 non-null   object \n",
            " 3   Marital_Status       2240 non-null   object \n",
            " 4   Income               2216 non-null   float64\n",
            " 5   Kidhome              2240 non-null   int64  \n",
            " 6   Teenhome             2240 non-null   int64  \n",
            " 7   Dt_Customer          2240 non-null   object \n",
            " 8   Recency              2240 non-null   int64  \n",
            " 9   MntWines             2240 non-null   int64  \n",
            " 10  MntFruits            2240 non-null   int64  \n",
            " 11  MntMeatProducts      2240 non-null   int64  \n",
            " 12  MntFishProducts      2240 non-null   int64  \n",
            " 13  MntSweetProducts     2240 non-null   int64  \n",
            " 14  MntGoldProds         2240 non-null   int64  \n",
            " 15  NumDealsPurchases    2240 non-null   int64  \n",
            " 16  NumWebPurchases      2240 non-null   int64  \n",
            " 17  NumCatalogPurchases  2240 non-null   int64  \n",
            " 18  NumStorePurchases    2240 non-null   int64  \n",
            " 19  NumWebVisitsMonth    2240 non-null   int64  \n",
            " 20  AcceptedCmp3         2240 non-null   int64  \n",
            " 21  AcceptedCmp4         2240 non-null   int64  \n",
            " 22  AcceptedCmp5         2240 non-null   int64  \n",
            " 23  AcceptedCmp1         2240 non-null   int64  \n",
            " 24  AcceptedCmp2         2240 non-null   int64  \n",
            " 25  Complain             2240 non-null   int64  \n",
            " 26  Z_CostContact        2240 non-null   int64  \n",
            " 27  Z_Revenue            2240 non-null   int64  \n",
            " 28  Response             2240 non-null   int64  \n",
            "dtypes: float64(1), int64(25), object(3)\n",
            "memory usage: 507.6+ KB\n"
          ]
        }
      ]
    },
    {
      "cell_type": "markdown",
      "source": [
        "Исходя из представленных колонок моджно сделать, что идеальной задачей для такого датасета является классификация - будем прогнозировать значение **'response'** в качестве целевой переменной."
      ],
      "metadata": {
        "id": "Pd2tLTyE7wJS"
      }
    },
    {
      "cell_type": "markdown",
      "source": [
        "## 3. Предобработка данных"
      ],
      "metadata": {
        "id": "q0CWKDxO7zJS"
      }
    },
    {
      "cell_type": "markdown",
      "source": [
        "### 3.1 Разбиение даннных на тренировочную и тестовую выборки"
      ],
      "metadata": {
        "id": "R4n3xxNU72_R"
      }
    },
    {
      "cell_type": "code",
      "source": [
        "X = df.drop('Response', axis=1)\n",
        "y = df['Response']\n",
        "X_train, X_test, y_train, y_test = train_test_split(X, y, test_size=0.2, random_state=42)"
      ],
      "metadata": {
        "id": "Xs8xGGBx80tb"
      },
      "execution_count": 87,
      "outputs": []
    },
    {
      "cell_type": "markdown",
      "source": [
        "### 3.2 Проверка пропусков в данных"
      ],
      "metadata": {
        "id": "n0ZdSxmC75Fz"
      }
    },
    {
      "cell_type": "code",
      "source": [
        "print(X_train.isnull().sum())\n",
        "print(\"\\n@@@@@@@@@@@@@@@@@@@@@@@@@\\n\")\n",
        "print(X_test.isnull().sum())\n",
        "\n",
        "numeric_features = X_train.select_dtypes(include=['int64', 'float64']).columns\n",
        "categorical_features = X_train.select_dtypes(include=['object']).columns"
      ],
      "metadata": {
        "colab": {
          "base_uri": "https://localhost:8080/"
        },
        "id": "Bvc_EU3J9DP2",
        "outputId": "c4e779f8-fd42-4aef-f39e-fde037f3b4f1"
      },
      "execution_count": 88,
      "outputs": [
        {
          "output_type": "stream",
          "name": "stdout",
          "text": [
            "ID                      0\n",
            "Year_Birth              0\n",
            "Education               0\n",
            "Marital_Status          0\n",
            "Income                 19\n",
            "Kidhome                 0\n",
            "Teenhome                0\n",
            "Dt_Customer             0\n",
            "Recency                 0\n",
            "MntWines                0\n",
            "MntFruits               0\n",
            "MntMeatProducts         0\n",
            "MntFishProducts         0\n",
            "MntSweetProducts        0\n",
            "MntGoldProds            0\n",
            "NumDealsPurchases       0\n",
            "NumWebPurchases         0\n",
            "NumCatalogPurchases     0\n",
            "NumStorePurchases       0\n",
            "NumWebVisitsMonth       0\n",
            "AcceptedCmp3            0\n",
            "AcceptedCmp4            0\n",
            "AcceptedCmp5            0\n",
            "AcceptedCmp1            0\n",
            "AcceptedCmp2            0\n",
            "Complain                0\n",
            "Z_CostContact           0\n",
            "Z_Revenue               0\n",
            "dtype: int64\n",
            "\n",
            "@@@@@@@@@@@@@@@@@@@@@@@@@\n",
            "\n",
            "ID                     0\n",
            "Year_Birth             0\n",
            "Education              0\n",
            "Marital_Status         0\n",
            "Income                 5\n",
            "Kidhome                0\n",
            "Teenhome               0\n",
            "Dt_Customer            0\n",
            "Recency                0\n",
            "MntWines               0\n",
            "MntFruits              0\n",
            "MntMeatProducts        0\n",
            "MntFishProducts        0\n",
            "MntSweetProducts       0\n",
            "MntGoldProds           0\n",
            "NumDealsPurchases      0\n",
            "NumWebPurchases        0\n",
            "NumCatalogPurchases    0\n",
            "NumStorePurchases      0\n",
            "NumWebVisitsMonth      0\n",
            "AcceptedCmp3           0\n",
            "AcceptedCmp4           0\n",
            "AcceptedCmp5           0\n",
            "AcceptedCmp1           0\n",
            "AcceptedCmp2           0\n",
            "Complain               0\n",
            "Z_CostContact          0\n",
            "Z_Revenue              0\n",
            "dtype: int64\n"
          ]
        }
      ]
    },
    {
      "cell_type": "markdown",
      "source": [
        "### 3.3 Трансформация данных"
      ],
      "metadata": {
        "id": "e2vkVC1t7-VV"
      }
    },
    {
      "cell_type": "code",
      "source": [
        "numeric_transformer = Pipeline(steps=[\n",
        "    ('imputer', SimpleImputer(strategy='median')),\n",
        "    ('scaler', StandardScaler())\n",
        "])\n",
        "\n",
        "categorical_transformer = Pipeline(steps=[\n",
        "    ('imputer', SimpleImputer(strategy='most_frequent')),\n",
        "    ('onehot', OneHotEncoder(handle_unknown='ignore'))\n",
        "])\n",
        "\n",
        "preprocessor = ColumnTransformer(\n",
        "    transformers=[\n",
        "        ('num', numeric_transformer, numeric_features),\n",
        "        ('cat', categorical_transformer, categorical_features)\n",
        "    ])\n",
        "\n",
        "X_train = preprocessor.fit_transform(X_train)\n",
        "X_test = preprocessor.transform(X_test)"
      ],
      "metadata": {
        "id": "YEzxGBCE1CNO"
      },
      "execution_count": 89,
      "outputs": []
    },
    {
      "cell_type": "markdown",
      "source": [
        "## 4. Оформление данных в виде класса Dataset"
      ],
      "metadata": {
        "id": "EAVg5BG5998B"
      }
    },
    {
      "cell_type": "code",
      "source": [
        "class CustomDataset(Dataset):\n",
        "    def __init__(self, X, y):\n",
        "        self.X = X\n",
        "        self.y = torch.tensor(y.values, dtype=torch.float32)\n",
        "\n",
        "    def __len__(self):\n",
        "        return self.X.shape[0]\n",
        "\n",
        "    def __getitem__(self, idx):\n",
        "        X_row = self.X[idx].toarray()\n",
        "        X_tensor = torch.tensor(X_row, dtype=torch.float32)\n",
        "        return X_tensor, self.y[idx]\n",
        "\n",
        "train_dataset = CustomDataset(X_train, y_train)\n",
        "test_dataset = CustomDataset(X_test, y_test)\n",
        "\n",
        "train_loader = DataLoader(train_dataset, batch_size=32, shuffle=True)\n",
        "test_loader = DataLoader(test_dataset, batch_size=32, shuffle=False)"
      ],
      "metadata": {
        "id": "3k3qESI2_As7"
      },
      "execution_count": 90,
      "outputs": []
    },
    {
      "cell_type": "markdown",
      "source": [
        "## 5. Тренировка моделей"
      ],
      "metadata": {
        "id": "cFnJHq2qBdqr"
      }
    },
    {
      "cell_type": "markdown",
      "source": [
        "### 5.1 Однослойная нейронка"
      ],
      "metadata": {
        "id": "gjj8Ga7vBlnO"
      }
    },
    {
      "cell_type": "code",
      "source": [
        "class SimpleNN(nn.Module):\n",
        "    def __init__(self, input_dim):\n",
        "        super(SimpleNN, self).__init__()\n",
        "        self.fc = nn.Linear(input_dim, 1)\n",
        "\n",
        "    def forward(self, x):\n",
        "        return torch.sigmoid(self.fc(x))\n",
        "\n",
        "input_dim = X_train.shape[1]\n",
        "model = SimpleNN(input_dim)\n",
        "criterion = nn.BCELoss()\n",
        "optimizer = optim.SGD(model.parameters(), lr=0.01)\n",
        "\n",
        "def train_model(model, criterion, optimizer, train_loader, test_loader, epochs=50):\n",
        "    train_losses = []\n",
        "    test_losses = []\n",
        "    for epoch in range(epochs):\n",
        "        model.train()\n",
        "        running_loss = 0.0\n",
        "        for inputs, labels in train_loader:\n",
        "            optimizer.zero_grad()\n",
        "            outputs = model(inputs).squeeze()\n",
        "            loss = criterion(outputs, labels)\n",
        "            loss.backward()\n",
        "            optimizer.step()\n",
        "            running_loss += loss.item()\n",
        "\n",
        "        train_losses.append(running_loss / len(train_loader))\n",
        "\n",
        "        model.eval()\n",
        "        test_loss = 0.0\n",
        "        with torch.no_grad():\n",
        "            for inputs, labels in test_loader:\n",
        "                outputs = model(inputs).squeeze()\n",
        "                loss = criterion(outputs, labels)\n",
        "                test_loss += loss.item()\n",
        "\n",
        "        test_losses.append(test_loss / len(test_loader))\n",
        "        print(f'Epoch {epoch+1}/{epochs}, Train Loss: {train_losses[-1]:.4f}, Test Loss: {test_losses[-1]:.4f}')\n",
        "\n",
        "    return train_losses, test_losses\n",
        "\n",
        "train_losses, test_losses = train_model(model, criterion, optimizer, train_loader, test_loader)\n"
      ],
      "metadata": {
        "colab": {
          "base_uri": "https://localhost:8080/"
        },
        "id": "4lU5GQxPBkZN",
        "outputId": "fcdc3805-b7af-406a-ae97-3813ce969ec2"
      },
      "execution_count": 91,
      "outputs": [
        {
          "output_type": "stream",
          "name": "stdout",
          "text": [
            "Epoch 1/50, Train Loss: 0.6286, Test Loss: 0.5794\n",
            "Epoch 2/50, Train Loss: 0.5295, Test Loss: 0.5131\n",
            "Epoch 3/50, Train Loss: 0.4682, Test Loss: 0.4691\n",
            "Epoch 4/50, Train Loss: 0.4269, Test Loss: 0.4390\n",
            "Epoch 5/50, Train Loss: 0.3977, Test Loss: 0.4174\n",
            "Epoch 6/50, Train Loss: 0.3762, Test Loss: 0.4017\n",
            "Epoch 7/50, Train Loss: 0.3599, Test Loss: 0.3899\n",
            "Epoch 8/50, Train Loss: 0.3473, Test Loss: 0.3809\n",
            "Epoch 9/50, Train Loss: 0.3373, Test Loss: 0.3738\n",
            "Epoch 10/50, Train Loss: 0.3291, Test Loss: 0.3682\n",
            "Epoch 11/50, Train Loss: 0.3224, Test Loss: 0.3635\n",
            "Epoch 12/50, Train Loss: 0.3169, Test Loss: 0.3598\n",
            "Epoch 13/50, Train Loss: 0.3121, Test Loss: 0.3567\n",
            "Epoch 14/50, Train Loss: 0.3080, Test Loss: 0.3540\n",
            "Epoch 15/50, Train Loss: 0.3044, Test Loss: 0.3520\n",
            "Epoch 16/50, Train Loss: 0.3013, Test Loss: 0.3501\n",
            "Epoch 17/50, Train Loss: 0.2985, Test Loss: 0.3484\n",
            "Epoch 18/50, Train Loss: 0.2960, Test Loss: 0.3470\n",
            "Epoch 19/50, Train Loss: 0.2938, Test Loss: 0.3456\n",
            "Epoch 20/50, Train Loss: 0.2919, Test Loss: 0.3446\n",
            "Epoch 21/50, Train Loss: 0.2901, Test Loss: 0.3435\n",
            "Epoch 22/50, Train Loss: 0.2884, Test Loss: 0.3427\n",
            "Epoch 23/50, Train Loss: 0.2870, Test Loss: 0.3420\n",
            "Epoch 24/50, Train Loss: 0.2855, Test Loss: 0.3412\n",
            "Epoch 25/50, Train Loss: 0.2843, Test Loss: 0.3407\n",
            "Epoch 26/50, Train Loss: 0.2831, Test Loss: 0.3401\n",
            "Epoch 27/50, Train Loss: 0.2820, Test Loss: 0.3395\n",
            "Epoch 28/50, Train Loss: 0.2809, Test Loss: 0.3391\n",
            "Epoch 29/50, Train Loss: 0.2800, Test Loss: 0.3388\n",
            "Epoch 30/50, Train Loss: 0.2792, Test Loss: 0.3383\n",
            "Epoch 31/50, Train Loss: 0.2783, Test Loss: 0.3379\n",
            "Epoch 32/50, Train Loss: 0.2775, Test Loss: 0.3376\n",
            "Epoch 33/50, Train Loss: 0.2768, Test Loss: 0.3372\n",
            "Epoch 34/50, Train Loss: 0.2760, Test Loss: 0.3371\n",
            "Epoch 35/50, Train Loss: 0.2754, Test Loss: 0.3369\n",
            "Epoch 36/50, Train Loss: 0.2748, Test Loss: 0.3366\n",
            "Epoch 37/50, Train Loss: 0.2742, Test Loss: 0.3364\n",
            "Epoch 38/50, Train Loss: 0.2737, Test Loss: 0.3362\n",
            "Epoch 39/50, Train Loss: 0.2731, Test Loss: 0.3360\n",
            "Epoch 40/50, Train Loss: 0.2727, Test Loss: 0.3357\n",
            "Epoch 41/50, Train Loss: 0.2721, Test Loss: 0.3355\n",
            "Epoch 42/50, Train Loss: 0.2717, Test Loss: 0.3354\n",
            "Epoch 43/50, Train Loss: 0.2713, Test Loss: 0.3353\n",
            "Epoch 44/50, Train Loss: 0.2708, Test Loss: 0.3352\n",
            "Epoch 45/50, Train Loss: 0.2704, Test Loss: 0.3351\n",
            "Epoch 46/50, Train Loss: 0.2701, Test Loss: 0.3348\n",
            "Epoch 47/50, Train Loss: 0.2696, Test Loss: 0.3348\n",
            "Epoch 48/50, Train Loss: 0.2693, Test Loss: 0.3347\n",
            "Epoch 49/50, Train Loss: 0.2690, Test Loss: 0.3345\n",
            "Epoch 50/50, Train Loss: 0.2686, Test Loss: 0.3343\n"
          ]
        }
      ]
    },
    {
      "cell_type": "code",
      "source": [
        "plt.plot(train_losses, label='Train Loss')\n",
        "plt.plot(test_losses, label='Test Loss')\n",
        "plt.xlabel('Epoch')\n",
        "plt.ylabel('Loss')\n",
        "plt.legend()\n",
        "plt.show()"
      ],
      "metadata": {
        "colab": {
          "base_uri": "https://localhost:8080/",
          "height": 449
        },
        "id": "cP0F-R3WDB1d",
        "outputId": "37a7fb81-0813-45b7-9c5f-0d1924b2c944"
      },
      "execution_count": 92,
      "outputs": [
        {
          "output_type": "display_data",
          "data": {
            "text/plain": [
              "<Figure size 640x480 with 1 Axes>"
            ],
            "image/png": "[encoded data removed]"
          },
          "metadata": {}
        }
      ]
    },
    {
      "cell_type": "code",
      "source": [
        "def evaluate_model(model, loader):\n",
        "    model.eval()\n",
        "    all_labels = []\n",
        "    all_preds = []\n",
        "    with torch.no_grad():\n",
        "        for inputs, labels in loader:\n",
        "            outputs = model(inputs).squeeze()\n",
        "            preds = (outputs > 0.5).float()\n",
        "            all_labels.extend(labels.numpy())\n",
        "            all_preds.extend(preds.numpy())\n",
        "    accuracy = accuracy_score(all_labels, all_preds)\n",
        "    mae = mean_absolute_error(all_labels, all_preds)\n",
        "    return accuracy, mae\n",
        "\n",
        "train_accuracy, train_mae = evaluate_model(model, train_loader)\n",
        "test_accuracy, test_mae = evaluate_model(model, test_loader)\n",
        "\n",
        "print(f'Train Accuracy: {train_accuracy:.4f}, Train MAE: {train_mae:.4f}')\n",
        "print(f'Test Accuracy: {test_accuracy:.4f}, Test MAE: {test_mae:.4f}')"
      ],
      "metadata": {
        "colab": {
          "base_uri": "https://localhost:8080/"
        },
        "id": "Szjf2s71Dn-r",
        "outputId": "cceb3096-3a8f-41f7-dbc9-bd43a4dcb84d"
      },
      "execution_count": 93,
      "outputs": [
        {
          "output_type": "stream",
          "name": "stdout",
          "text": [
            "Train Accuracy: 0.8940, Train MAE: 0.1060\n",
            "Test Accuracy: 0.8728, Test MAE: 0.1272\n"
          ]
        }
      ]
    },
    {
      "cell_type": "markdown",
      "source": [
        "### 5.2 Нейросеть с 1 скрытым слоем. Оптимизатор Adam"
      ],
      "metadata": {
        "id": "x-KcmdONB66m"
      }
    },
    {
      "cell_type": "code",
      "source": [
        "class MediumNN(nn.Module):\n",
        "    def __init__(self, input_dim):\n",
        "        super(MediumNN, self).__init__()\n",
        "        self.fc1 = nn.Linear(input_dim, 64)\n",
        "        self.fc2 = nn.Linear(64, 1)\n",
        "\n",
        "    def forward(self, x):\n",
        "        x = torch.relu(self.fc1(x))\n",
        "        return torch.sigmoid(self.fc2(x))\n",
        "\n",
        "model = MediumNN(input_dim)\n",
        "criterion = nn.BCELoss()\n",
        "optimizer = optim.Adam(model.parameters(), lr=0.001)\n",
        "\n",
        "train_losses, test_losses = train_model(model, criterion, optimizer, train_loader, test_loader)"
      ],
      "metadata": {
        "colab": {
          "base_uri": "https://localhost:8080/"
        },
        "id": "-WZ35FeJCAiI",
        "outputId": "d8312fdd-6599-4bc0-99d9-d2705255350f"
      },
      "execution_count": 94,
      "outputs": [
        {
          "output_type": "stream",
          "name": "stdout",
          "text": [
            "Epoch 1/50, Train Loss: 0.5189, Test Loss: 0.4204\n",
            "Epoch 2/50, Train Loss: 0.3322, Test Loss: 0.3533\n",
            "Epoch 3/50, Train Loss: 0.2745, Test Loss: 0.3321\n",
            "Epoch 4/50, Train Loss: 0.2489, Test Loss: 0.3235\n",
            "Epoch 5/50, Train Loss: 0.2277, Test Loss: 0.3232\n",
            "Epoch 6/50, Train Loss: 0.2129, Test Loss: 0.3185\n",
            "Epoch 7/50, Train Loss: 0.2001, Test Loss: 0.3163\n",
            "Epoch 8/50, Train Loss: 0.1869, Test Loss: 0.3162\n",
            "Epoch 9/50, Train Loss: 0.1754, Test Loss: 0.3177\n",
            "Epoch 10/50, Train Loss: 0.1621, Test Loss: 0.3213\n",
            "Epoch 11/50, Train Loss: 0.1526, Test Loss: 0.3205\n",
            "Epoch 12/50, Train Loss: 0.1399, Test Loss: 0.3237\n",
            "Epoch 13/50, Train Loss: 0.1290, Test Loss: 0.3242\n",
            "Epoch 14/50, Train Loss: 0.1213, Test Loss: 0.3311\n",
            "Epoch 15/50, Train Loss: 0.1115, Test Loss: 0.3343\n",
            "Epoch 16/50, Train Loss: 0.1025, Test Loss: 0.3361\n",
            "Epoch 17/50, Train Loss: 0.0963, Test Loss: 0.3474\n",
            "Epoch 18/50, Train Loss: 0.0892, Test Loss: 0.3460\n",
            "Epoch 19/50, Train Loss: 0.0829, Test Loss: 0.3493\n",
            "Epoch 20/50, Train Loss: 0.0772, Test Loss: 0.3587\n",
            "Epoch 21/50, Train Loss: 0.0725, Test Loss: 0.3613\n",
            "Epoch 22/50, Train Loss: 0.0678, Test Loss: 0.3708\n",
            "Epoch 23/50, Train Loss: 0.0632, Test Loss: 0.3690\n",
            "Epoch 24/50, Train Loss: 0.0609, Test Loss: 0.3819\n",
            "Epoch 25/50, Train Loss: 0.0560, Test Loss: 0.3881\n",
            "Epoch 26/50, Train Loss: 0.0529, Test Loss: 0.3929\n",
            "Epoch 27/50, Train Loss: 0.0500, Test Loss: 0.3987\n",
            "Epoch 28/50, Train Loss: 0.0468, Test Loss: 0.4041\n",
            "Epoch 29/50, Train Loss: 0.0443, Test Loss: 0.4121\n",
            "Epoch 30/50, Train Loss: 0.0427, Test Loss: 0.4221\n",
            "Epoch 31/50, Train Loss: 0.0408, Test Loss: 0.4289\n",
            "Epoch 32/50, Train Loss: 0.0385, Test Loss: 0.4319\n",
            "Epoch 33/50, Train Loss: 0.0361, Test Loss: 0.4423\n",
            "Epoch 34/50, Train Loss: 0.0348, Test Loss: 0.4476\n",
            "Epoch 35/50, Train Loss: 0.0325, Test Loss: 0.4485\n",
            "Epoch 36/50, Train Loss: 0.0309, Test Loss: 0.4562\n",
            "Epoch 37/50, Train Loss: 0.0298, Test Loss: 0.4635\n",
            "Epoch 38/50, Train Loss: 0.0286, Test Loss: 0.4671\n",
            "Epoch 39/50, Train Loss: 0.0277, Test Loss: 0.4740\n",
            "Epoch 40/50, Train Loss: 0.0263, Test Loss: 0.4860\n",
            "Epoch 41/50, Train Loss: 0.0246, Test Loss: 0.4798\n",
            "Epoch 42/50, Train Loss: 0.0243, Test Loss: 0.4939\n",
            "Epoch 43/50, Train Loss: 0.0237, Test Loss: 0.4974\n",
            "Epoch 44/50, Train Loss: 0.0224, Test Loss: 0.4981\n",
            "Epoch 45/50, Train Loss: 0.0218, Test Loss: 0.5115\n",
            "Epoch 46/50, Train Loss: 0.0216, Test Loss: 0.5103\n",
            "Epoch 47/50, Train Loss: 0.0200, Test Loss: 0.5165\n",
            "Epoch 48/50, Train Loss: 0.0200, Test Loss: 0.5306\n",
            "Epoch 49/50, Train Loss: 0.0196, Test Loss: 0.5317\n",
            "Epoch 50/50, Train Loss: 0.0187, Test Loss: 0.5302\n"
          ]
        }
      ]
    },
    {
      "cell_type": "code",
      "source": [
        "plt.plot(train_losses, label='Train Loss')\n",
        "plt.plot(test_losses, label='Test Loss')\n",
        "plt.xlabel('Epoch')\n",
        "plt.ylabel('Loss')\n",
        "plt.legend()\n",
        "plt.show()"
      ],
      "metadata": {
        "colab": {
          "base_uri": "https://localhost:8080/",
          "height": 449
        },
        "id": "Ih06NKZlDAp6",
        "outputId": "127ff69f-6e16-490f-d610-cf43795f74ac"
      },
      "execution_count": 95,
      "outputs": [
        {
          "output_type": "display_data",
          "data": {
            "text/plain": [
              "<Figure size 640x480 with 1 Axes>"
            ],
            "image/png": "[encoded data removed]"
          },
          "metadata": {}
        }
      ]
    },
    {
      "cell_type": "code",
      "source": [
        "def evaluate_model(model, loader):\n",
        "    model.eval()\n",
        "    all_labels = []\n",
        "    all_preds = []\n",
        "    with torch.no_grad():\n",
        "        for inputs, labels in loader:\n",
        "            outputs = model(inputs).squeeze()\n",
        "            preds = (outputs > 0.5).float()\n",
        "            all_labels.extend(labels.numpy())\n",
        "            all_preds.extend(preds.numpy())\n",
        "    accuracy = accuracy_score(all_labels, all_preds)\n",
        "    mae = mean_absolute_error(all_labels, all_preds)\n",
        "    return accuracy, mae\n",
        "\n",
        "train_accuracy, train_mae = evaluate_model(model, train_loader)\n",
        "test_accuracy, test_mae = evaluate_model(model, test_loader)\n",
        "\n",
        "print(f'Train Accuracy: {train_accuracy:.4f}, Train MAE: {train_mae:.4f}')\n",
        "print(f'Test Accuracy: {test_accuracy:.4f}, Test MAE: {test_mae:.4f}')"
      ],
      "metadata": {
        "colab": {
          "base_uri": "https://localhost:8080/"
        },
        "id": "K3SYQo37Dl3v",
        "outputId": "12f0c985-750a-4907-e217-df60b510d7f2"
      },
      "execution_count": 96,
      "outputs": [
        {
          "output_type": "stream",
          "name": "stdout",
          "text": [
            "Train Accuracy: 0.9961, Train MAE: 0.0039\n",
            "Test Accuracy: 0.8482, Test MAE: 0.1518\n"
          ]
        }
      ]
    },
    {
      "cell_type": "markdown",
      "source": [
        "### 5.3 Нейросеть с 3+ скрытыми слоями. Оптимизатор Adam"
      ],
      "metadata": {
        "id": "oav66KoPCIx2"
      }
    },
    {
      "cell_type": "code",
      "source": [
        "class ComplexNN(nn.Module):\n",
        "    def __init__(self, input_dim):\n",
        "        super(ComplexNN, self).__init__()\n",
        "        self.fc1 = nn.Linear(input_dim, 128)\n",
        "        self.fc2 = nn.Linear(128, 64)\n",
        "        self.fc3 = nn.Linear(64, 32)\n",
        "        self.fc4 = nn.Linear(32, 1)\n",
        "\n",
        "    def forward(self, x):\n",
        "        x = torch.relu(self.fc1(x))\n",
        "        x = torch.relu(self.fc2(x))\n",
        "        x = torch.relu(self.fc3(x))\n",
        "        return torch.sigmoid(self.fc4(x))\n",
        "\n",
        "model = ComplexNN(input_dim)\n",
        "criterion = nn.BCELoss()\n",
        "optimizer = optim.Adam(model.parameters(), lr=0.001)\n",
        "\n",
        "# Обучение модели\n",
        "train_losses, test_losses = train_model(model, criterion, optimizer, train_loader, test_loader)"
      ],
      "metadata": {
        "colab": {
          "base_uri": "https://localhost:8080/"
        },
        "id": "st_VWmnsCPFn",
        "outputId": "80c126a4-f702-4ed4-86c3-1692fff490b4"
      },
      "execution_count": 97,
      "outputs": [
        {
          "output_type": "stream",
          "name": "stdout",
          "text": [
            "Epoch 1/50, Train Loss: 0.4585, Test Loss: 0.3762\n",
            "Epoch 2/50, Train Loss: 0.2816, Test Loss: 0.3309\n",
            "Epoch 3/50, Train Loss: 0.2364, Test Loss: 0.3288\n",
            "Epoch 4/50, Train Loss: 0.1997, Test Loss: 0.3303\n",
            "Epoch 5/50, Train Loss: 0.1555, Test Loss: 0.3402\n",
            "Epoch 6/50, Train Loss: 0.1172, Test Loss: 0.4097\n",
            "Epoch 7/50, Train Loss: 0.0787, Test Loss: 0.4201\n",
            "Epoch 8/50, Train Loss: 0.0498, Test Loss: 0.4869\n",
            "Epoch 9/50, Train Loss: 0.0467, Test Loss: 0.5281\n",
            "Epoch 10/50, Train Loss: 0.0306, Test Loss: 0.5766\n",
            "Epoch 11/50, Train Loss: 0.0289, Test Loss: 0.5578\n",
            "Epoch 12/50, Train Loss: 0.0233, Test Loss: 0.5784\n",
            "Epoch 13/50, Train Loss: 0.0236, Test Loss: 0.6348\n",
            "Epoch 14/50, Train Loss: 0.0225, Test Loss: 0.6029\n",
            "Epoch 15/50, Train Loss: 0.0215, Test Loss: 0.6606\n",
            "Epoch 16/50, Train Loss: 0.0200, Test Loss: 0.6217\n",
            "Epoch 17/50, Train Loss: 0.0173, Test Loss: 0.7101\n",
            "Epoch 18/50, Train Loss: 0.0171, Test Loss: 0.7973\n",
            "Epoch 19/50, Train Loss: 0.0153, Test Loss: 0.7797\n",
            "Epoch 20/50, Train Loss: 0.0150, Test Loss: 0.7158\n",
            "Epoch 21/50, Train Loss: 0.0153, Test Loss: 0.6892\n",
            "Epoch 22/50, Train Loss: 0.0156, Test Loss: 0.6959\n",
            "Epoch 23/50, Train Loss: 0.0149, Test Loss: 0.7761\n",
            "Epoch 24/50, Train Loss: 0.0152, Test Loss: 0.6871\n",
            "Epoch 25/50, Train Loss: 0.0131, Test Loss: 0.7059\n",
            "Epoch 26/50, Train Loss: 0.0134, Test Loss: 0.7508\n",
            "Epoch 27/50, Train Loss: 0.0102, Test Loss: 0.7065\n",
            "Epoch 28/50, Train Loss: 0.0122, Test Loss: 0.7669\n",
            "Epoch 29/50, Train Loss: 0.0069, Test Loss: 0.7434\n",
            "Epoch 30/50, Train Loss: 0.0102, Test Loss: 0.8013\n",
            "Epoch 31/50, Train Loss: 0.0155, Test Loss: 0.8036\n",
            "Epoch 32/50, Train Loss: 0.0112, Test Loss: 0.7000\n",
            "Epoch 33/50, Train Loss: 0.0110, Test Loss: 0.7328\n",
            "Epoch 34/50, Train Loss: 0.0107, Test Loss: 0.7035\n",
            "Epoch 35/50, Train Loss: 0.0086, Test Loss: 0.7434\n",
            "Epoch 36/50, Train Loss: 0.0066, Test Loss: 0.7453\n",
            "Epoch 37/50, Train Loss: 0.0070, Test Loss: 0.7902\n",
            "Epoch 38/50, Train Loss: 0.0056, Test Loss: 0.7730\n",
            "Epoch 39/50, Train Loss: 0.0098, Test Loss: 0.7745\n",
            "Epoch 40/50, Train Loss: 0.0086, Test Loss: 0.7569\n",
            "Epoch 41/50, Train Loss: 0.0070, Test Loss: 0.7832\n",
            "Epoch 42/50, Train Loss: 0.0059, Test Loss: 0.7824\n",
            "Epoch 43/50, Train Loss: 0.0055, Test Loss: 0.8092\n",
            "Epoch 44/50, Train Loss: 0.0080, Test Loss: 0.8329\n",
            "Epoch 45/50, Train Loss: 0.0058, Test Loss: 0.8012\n",
            "Epoch 46/50, Train Loss: 0.0065, Test Loss: 0.8790\n",
            "Epoch 47/50, Train Loss: 0.0062, Test Loss: 0.8578\n",
            "Epoch 48/50, Train Loss: 0.0085, Test Loss: 0.8571\n",
            "Epoch 49/50, Train Loss: 0.0076, Test Loss: 0.8413\n",
            "Epoch 50/50, Train Loss: 0.0060, Test Loss: 0.8126\n"
          ]
        }
      ]
    },
    {
      "cell_type": "code",
      "source": [
        "plt.plot(train_losses, label='Train Loss')\n",
        "plt.plot(test_losses, label='Test Loss')\n",
        "plt.xlabel('Epoch')\n",
        "plt.ylabel('Loss')\n",
        "plt.legend()\n",
        "plt.show()"
      ],
      "metadata": {
        "colab": {
          "base_uri": "https://localhost:8080/",
          "height": 449
        },
        "id": "6nLSMkkZCZL9",
        "outputId": "3d6b9988-9c89-4d90-ed36-c2a4e483491c"
      },
      "execution_count": 98,
      "outputs": [
        {
          "output_type": "display_data",
          "data": {
            "text/plain": [
              "<Figure size 640x480 with 1 Axes>"
            ],
            "image/png": "[encoded data removed]"
          },
          "metadata": {}
        }
      ]
    },
    {
      "cell_type": "code",
      "source": [
        "def evaluate_model(model, loader):\n",
        "    model.eval()\n",
        "    all_labels = []\n",
        "    all_preds = []\n",
        "    with torch.no_grad():\n",
        "        for inputs, labels in loader:\n",
        "            outputs = model(inputs).squeeze()\n",
        "            preds = (outputs > 0.5).float()\n",
        "            all_labels.extend(labels.numpy())\n",
        "            all_preds.extend(preds.numpy())\n",
        "    accuracy = accuracy_score(all_labels, all_preds)\n",
        "    mae = mean_absolute_error(all_labels, all_preds)\n",
        "    return accuracy, mae\n",
        "\n",
        "train_accuracy, train_mae = evaluate_model(model, train_loader)\n",
        "test_accuracy, test_mae = evaluate_model(model, test_loader)\n",
        "\n",
        "print(f'Train Accuracy: {train_accuracy:.4f}, Train MAE: {train_mae:.4f}')\n",
        "print(f'Test Accuracy: {test_accuracy:.4f}, Test MAE: {test_mae:.4f}')"
      ],
      "metadata": {
        "colab": {
          "base_uri": "https://localhost:8080/"
        },
        "id": "5bobh-m6Carg",
        "outputId": "fc652135-01bf-4f3f-c391-1ba8beb43f1a"
      },
      "execution_count": 99,
      "outputs": [
        {
          "output_type": "stream",
          "name": "stdout",
          "text": [
            "Train Accuracy: 0.9983, Train MAE: 0.0017\n",
            "Test Accuracy: 0.8304, Test MAE: 0.1696\n"
          ]
        }
      ]
    }
  ]
}